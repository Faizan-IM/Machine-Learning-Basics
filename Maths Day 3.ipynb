{
 "cells": [
  {
   "cell_type": "markdown",
   "id": "34455f90-a4a4-43ad-ae8d-32cde51a064b",
   "metadata": {},
   "source": []
  },
  {
   "cell_type": "markdown",
   "id": "7e9d8fdf-21ed-4f54-8b1e-d940b311de12",
   "metadata": {},
   "source": []
  },
  {
   "cell_type": "markdown",
   "id": "447fec97-6161-497c-ad0e-bf17f2d60a86",
   "metadata": {},
   "source": []
  },
  {
   "cell_type": "markdown",
   "id": "96c9ef6a-5637-46cc-bdd7-254538af5933",
   "metadata": {},
   "source": []
  },
  {
   "cell_type": "markdown",
   "id": "56d1bfbf-cd37-43ac-b5b5-53281db298c4",
   "metadata": {},
   "source": []
  },
  {
   "cell_type": "markdown",
   "id": "d492741e-a93c-4af1-9aaa-9ea927adb787",
   "metadata": {},
   "source": []
  },
  {
   "cell_type": "markdown",
   "id": "38ae41f1-3d22-44ea-ba4f-e85aba41a3ed",
   "metadata": {},
   "source": []
  },
  {
   "cell_type": "markdown",
   "id": "466d01e7-ba88-44f8-a2b9-dadf198f6a2e",
   "metadata": {},
   "source": []
  },
  {
   "cell_type": "markdown",
   "id": "4985efb2-7802-42f0-8c6c-eadb8b1c6db3",
   "metadata": {},
   "source": []
  },
  {
   "cell_type": "markdown",
   "id": "9b531779-8966-433d-9d02-d37856305867",
   "metadata": {},
   "source": []
  },
  {
   "cell_type": "markdown",
   "id": "bb062286-ba99-4b0b-bf96-836b23a50927",
   "metadata": {},
   "source": []
  },
  {
   "cell_type": "markdown",
   "id": "41c2a488-4044-4a82-9e20-03b89fff1d04",
   "metadata": {},
   "source": []
  },
  {
   "cell_type": "markdown",
   "id": "60639fa2-5240-48e6-98df-f190d1900998",
   "metadata": {},
   "source": []
  },
  {
   "cell_type": "markdown",
   "id": "9033211d-5d6e-4194-a89e-75ca2f8f0b88",
   "metadata": {},
   "source": []
  },
  {
   "cell_type": "markdown",
   "id": "fbcca106-ace4-4a65-a411-409bea451ccc",
   "metadata": {},
   "source": []
  },
  {
   "cell_type": "markdown",
   "id": "fa503b08-9f86-4a2e-a78e-82bae8f71b20",
   "metadata": {},
   "source": []
  },
  {
   "cell_type": "markdown",
   "id": "ee63dfbf-c937-4358-b938-ba22b70f6ac0",
   "metadata": {},
   "source": []
  },
  {
   "cell_type": "markdown",
   "id": "747bce8f-0646-4903-bcac-cc1a0e2a0799",
   "metadata": {},
   "source": []
  },
  {
   "cell_type": "markdown",
   "id": "22d42ec8-45f7-4e27-987d-9cc6ccefb361",
   "metadata": {},
   "source": []
  },
  {
   "cell_type": "markdown",
   "id": "6543f202-d48d-409c-b501-0a225f11c880",
   "metadata": {},
   "source": []
  },
  {
   "cell_type": "markdown",
   "id": "c823a0ac-0a61-4c79-af02-b4a1ac3b28d3",
   "metadata": {},
   "source": []
  },
  {
   "cell_type": "markdown",
   "id": "955ebc7d-1a47-40be-90cc-8b2674954b57",
   "metadata": {},
   "source": []
  }
 ],
 "metadata": {
  "kernelspec": {
   "display_name": "Python 3 (ipykernel)",
   "language": "python",
   "name": "python3"
  },
  "language_info": {
   "codemirror_mode": {
    "name": "ipython",
    "version": 3
   },
   "file_extension": ".py",
   "mimetype": "text/x-python",
   "name": "python",
   "nbconvert_exporter": "python",
   "pygments_lexer": "ipython3",
   "version": "3.12.6"
  }
 },
 "nbformat": 4,
 "nbformat_minor": 5
}
