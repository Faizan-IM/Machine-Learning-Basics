{
 "cells": [
  {
   "cell_type": "markdown",
   "id": "404cb372",
   "metadata": {},
   "source": [
    "# Linear Equation"
   ]
  },
  {
   "cell_type": "markdown",
   "id": "fe0f4d36-c0dd-4b7e-ae8e-eb7569576f4c",
   "metadata": {},
   "source": [
    "y = mx + c "
   ]
  },
  {
   "cell_type": "markdown",
   "id": "52ce710b",
   "metadata": {},
   "source": []
  }
 ],
 "metadata": {
  "kernelspec": {
   "display_name": "Python 3 (ipykernel)",
   "language": "python",
   "name": "python3"
  },
  "language_info": {
   "codemirror_mode": {
    "name": "ipython",
    "version": 3
   },
   "file_extension": ".py",
   "mimetype": "text/x-python",
   "name": "python",
   "nbconvert_exporter": "python",
   "pygments_lexer": "ipython3",
   "version": "3.12.4"
  }
 },
 "nbformat": 4,
 "nbformat_minor": 5
}
